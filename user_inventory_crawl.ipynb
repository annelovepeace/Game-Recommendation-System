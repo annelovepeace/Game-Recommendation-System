{
 "cells": [
  {
   "cell_type": "code",
   "execution_count": null,
   "metadata": {},
   "outputs": [],
   "source": [
    "import requests, json, os, sys, time, re\n",
    "from datetime import datetime\n",
    "from multiprocessing import Pool"
   ]
  },
  {
   "cell_type": "code",
   "execution_count": null,
   "metadata": {},
   "outputs": [],
   "source": [
    "## split the long list for multiprocessing\n",
    "def split_list(lst_long, n):\n",
    "    lst_splitted = []\n",
    "    if len(lst_long) % n == 0:\n",
    "        totalBatches = int(len(lst_long) / n)\n",
    "    else:\n",
    "        totalBatches = int(len(lst_long) / n + 1)\n",
    "    for i in range(totalBatches):\n",
    "        lst_short = lst_long[i*n:(i+1)*n]\n",
    "        lst_splitted.append(lst_short)\n",
    "    return lst_splitted\n",
    "\n",
    "## create work status bar\n",
    "def show_work_status(singleCount, totalCount, currentCount=0):\n",
    "    if totalCount > 0:\n",
    "        currentCount += singleCount\n",
    "        percentage = 100.0 * currentCount / totalCount\n",
    "        status =  '>' * int(percentage)  + '-' * (100 - int(percentage))\n",
    "        sys.stdout.write('\\r[{0}] {1:.2f}% '.format(status, percentage))\n",
    "        sys.stdout.flush()\n",
    "        if percentage >= 100:\n",
    "            print ('\\n')"
   ]
  },
  {
   "cell_type": "code",
   "execution_count": null,
   "metadata": {},
   "outputs": [],
   "source": [
    "## read user id one by one\n",
    "path_user_id = 'data/steam_user_id.txt'\n",
    "with open(path_user_id, 'r') as f:\n",
    "    lst_user_id = f.readlines()"
   ]
  },
  {
   "cell_type": "code",
   "execution_count": null,
   "metadata": {},
   "outputs": [],
   "source": [
    "def worker(lst_user_id_temp):\n",
    "    dic_temp = {}\n",
    "    for user_id in lst_user_id_temp:\n",
    "        base_url = 'http://api.steampowered.com/IPlayerService/GetOwnedGames/v0001/' #more info about GetOwnedGames - https://developer.valvesoftware.com/wiki/Steam_Web_API\n",
    "        params = {\n",
    "            'key' : 'D0C62157A8941F12A687382B6D635449', #get Steam web API key using a Steam developer account\n",
    "            'steamid' : user_id.strip(),\n",
    "            'format' : 'json' }\n",
    "        r = requests.get(base_url, params = params)\n",
    "        user_inventory = r.json().get('response').get('games')\n",
    "        dic_temp.update({user_id.strip():user_inventory}) #user_inventory doesn't contain user_id, so combine user_id and user_inventory into a dictionary\n",
    "        time.sleep(1)\n",
    "    return dic_temp"
   ]
  },
  {
   "cell_type": "code",
   "execution_count": null,
   "metadata": {},
   "outputs": [],
   "source": [
    "## multiprocessing\n",
    "p = Pool(5)\n",
    "\n",
    "total_count = len(lst_user_id)\n",
    "current_count = 0\n",
    "show_work_status(0, total_count, current_count)\n",
    "\n",
    "dic_master = {}\n",
    "for i in split_list(lst_user_id,100):\n",
    "    lst_temp_dic = p.map(worker, split_list(i,10))\n",
    "    for x in lst_temp_dic:\n",
    "        dic_master.update(x)\n",
    "    show_work_status(len(i), total_count, current_count)\n",
    "    current_count += len(i)\n",
    "    time.sleep(5)"
   ]
  },
  {
   "cell_type": "code",
   "execution_count": null,
   "metadata": {},
   "outputs": [],
   "source": [
    "with open('data/user_inventory.txt', 'w') as f:\n",
    "    for user_id, user_inventory in dic_master.items():\n",
    "        f.write(json.dumps({user_id:user_inventory}))\n",
    "        f.write('\\n')"
   ]
  },
  {
   "cell_type": "code",
   "execution_count": null,
   "metadata": {},
   "outputs": [],
   "source": []
  }
 ],
 "metadata": {
  "anaconda-cloud": {},
  "kernelspec": {
   "display_name": "Python 3",
   "language": "python",
   "name": "python3"
  },
  "language_info": {
   "codemirror_mode": {
    "name": "ipython",
    "version": 3
   },
   "file_extension": ".py",
   "mimetype": "text/x-python",
   "name": "python",
   "nbconvert_exporter": "python",
   "pygments_lexer": "ipython3",
   "version": "3.7.3"
  }
 },
 "nbformat": 4,
 "nbformat_minor": 1
}
