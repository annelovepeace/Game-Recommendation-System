{
 "cells": [
  {
   "cell_type": "code",
   "execution_count": null,
   "metadata": {},
   "outputs": [],
   "source": [
    "import requests, json, os, sys, time, re\n",
    "from datetime import datetime\n",
    "from multiprocessing import Pool"
   ]
  },
  {
   "cell_type": "code",
   "execution_count": null,
   "metadata": {},
   "outputs": [],
   "source": [
    "## create work status bar\n",
    "def show_work_status(singleCount, totalCount, currentCount=0):\n",
    "    if totalCount > 0:\n",
    "        currentCount += singleCount\n",
    "        percentage = 100.0 * currentCount / totalCount\n",
    "        status =  '>' * int(percentage)  + '-' * (100 - int(percentage))\n",
    "        sys.stdout.write('\\r[{0}] {1:.2f}% '.format(status, percentage))\n",
    "        sys.stdout.flush()\n",
    "        if percentage >= 100:\n",
    "            print ('\\n')"
   ]
  },
  {
   "cell_type": "code",
   "execution_count": null,
   "metadata": {},
   "outputs": [],
   "source": [
    "## get app_id\n",
    "r = requests.get('http://steamspy.com/api.php?request=all')\n",
    "dic_app_user = r.json()"
   ]
  },
  {
   "cell_type": "code",
   "execution_count": null,
   "metadata": {},
   "outputs": [],
   "source": [
    "# with open('data/app_stats.json', 'w') as f:\n",
    "#     f.write(json.dump(dic_app_user, f, indent=2))"
   ]
  },
  {
   "cell_type": "code",
   "execution_count": null,
   "metadata": {},
   "outputs": [],
   "source": [
    "## use app_id to get app_detail\n",
    "path_app_detail = 'data/app_detail.txt'    \n",
    "    \n",
    "lst_app_id = list(dic_app_user.keys())\n",
    "total_count = len(lst_app_id)\n",
    "current_count = 0\n",
    "show_work_status(0, total_count, current_count)\n",
    "\n",
    "\n",
    "with open(path_app_detail, 'w') as f:\n",
    "    for app_id in lst_app_id:\n",
    "        url_app_detail = ('http://store.steampowered.com/api/appdetails?appids=%s') % (app_id)\n",
    "        for i in range(3):\n",
    "            try:\n",
    "                r = requests.get(url_app_detail)\n",
    "                result = r.json()\n",
    "                break\n",
    "            except:\n",
    "                time.sleep(5)\n",
    "                pass\n",
    "        f.write(json.dumps(result))\n",
    "        f.write('\\n')\n",
    "        show_work_status(1, total_count, current_count)\n",
    "        current_count += 1\n",
    "        if current_count % 200 == 0:\n",
    "            time.sleep(300)\n",
    "        else:\n",
    "            time.sleep(.5)"
   ]
  },
  {
   "cell_type": "code",
   "execution_count": null,
   "metadata": {},
   "outputs": [],
   "source": []
  }
 ],
 "metadata": {
  "anaconda-cloud": {},
  "kernelspec": {
   "display_name": "Python 3",
   "language": "python",
   "name": "python3"
  },
  "language_info": {
   "codemirror_mode": {
    "name": "ipython",
    "version": 3
   },
   "file_extension": ".py",
   "mimetype": "text/x-python",
   "name": "python",
   "nbconvert_exporter": "python",
   "pygments_lexer": "ipython3",
   "version": "3.7.3"
  }
 },
 "nbformat": 4,
 "nbformat_minor": 1
}
